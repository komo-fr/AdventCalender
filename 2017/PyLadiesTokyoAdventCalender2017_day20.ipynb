{
 "cells": [
  {
   "cell_type": "markdown",
   "metadata": {},
   "source": [
    "# PyLadiesTokyo秋合宿2017やったこと一覧"
   ]
  },
  {
   "cell_type": "markdown",
   "metadata": {},
   "source": [
    "## このページは何? \n",
    "- このページは**<a href=\"https://adventar.org/calendars/2462\">「Geek Women Japan Advent Calendar 2017」</a>**の20日目の記事です。   \n",
    "- そして今更ですが<a href=\"https://pyladies-tokyo.connpass.com/event/64432/\">PyLadies Tokyo 秋合宿 2017</a>でやったことまとめです。"
   ]
  },
  {
   "cell_type": "markdown",
   "metadata": {},
   "source": [
    "## やったこと一覧\n",
    "1. GitHubでmatplotlibにstarをつけている人が、他にどんなリポジトリに注目しているか調べてみた。\n",
    "    - 詳しくは<a href=\"https://github.com/komo-fr/AdventCalender/blob/master/2017/GeekWomenJapanAdventCalendar2017_day16.ipynb\">ここ</a>に書いています。\n",
    "    - 思っていたよりもデータ取得に時間がかかる&合宿所のネットワーク状態が悪かったことから、中間状態をpickle形式で塩漬けにしました。何気に、実務的な理由でpickle使ったのは初めてだったかも。\n",
    "    - データ取得の待ち時間中は、PyConJP2017の資料を見返しつつ、マルチプロセス処理・マルチスレッド処理のコード試し書きして練習してました。\n",
    "2. <a href=\"https://twitter.com/maaya8585\">@Maaya8585</a>さんのハンズオンで、お部屋と汚部屋の分類器を作ってみた。\n",
    "3. <a href=\"https://twitter.com/maaya8585\">@Maaya8585</a>さんのハンズオンで、tornadeを初めて触った。\n",
    "    - tornadeは名前と「なんか非同期処理のやつ」と知っている程度だったので、良い機会でした。\n",
    "4. PyLadiesTokyoのハンドブックの翻訳PJ誕生に立ち会えた。\n",
    "    - 個人的に、これが一番合宿に参加してよかったことかもしれないです。\n",
    "    - 大学以降男性ばかりの環境で過ごしていたので「男性の中に自分一人しか女性がいない」という状況は全然普通なのですが、よく考えると「深夜にかなりラフな状態でコード書いて作業している」というのは、あまりなかったような気がします（研究室内除く）。"
   ]
  },
  {
   "cell_type": "markdown",
   "metadata": {},
   "source": [
    "なんかもっと書こうと思ったけど時間がきちゃったよ。一旦公開します。"
   ]
  }
 ],
 "metadata": {
  "hide_input": false,
  "kernelspec": {
   "display_name": "Environment (conda_mokumoku362)",
   "language": "python",
   "name": "conda_mokumoku362"
  },
  "language_info": {
   "codemirror_mode": {
    "name": "ipython",
    "version": 3
   },
   "file_extension": ".py",
   "mimetype": "text/x-python",
   "name": "python",
   "nbconvert_exporter": "python",
   "pygments_lexer": "ipython3",
   "version": "3.6.2"
  },
  "toc": {
   "nav_menu": {},
   "number_sections": true,
   "sideBar": true,
   "skip_h1_title": false,
   "toc_cell": false,
   "toc_position": {},
   "toc_section_display": "block",
   "toc_window_display": false
  }
 },
 "nbformat": 4,
 "nbformat_minor": 2
}
